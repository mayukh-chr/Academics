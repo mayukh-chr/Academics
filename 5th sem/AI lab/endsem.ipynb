{
    "cells": [
     {
      "cell_type": "markdown",
      "metadata": {},
      "source": [
       "# AI Lab Midterm Notebook"
        ]
    }
     },
     {
      "cell_type": "markdown",
      "metadata": {},
      "source": [
       "## 1. Depth First Search (DFS)"
      ]
     },
     {
      "cell_type": "code",
      "execution_count": null,
      "metadata": {},
      "outputs": [],
      "source": [
       "def dfs(node, graph, visited):\n",
       "    visited.append(node)\n",
       "    print(node)\n",
       "    for neighbor in graph[node]:\n",
       "        if neighbor not in visited:\n",
       "            dfs(neighbor, graph, visited)\n",
       "\n",
       "graph = {\n",
       "    0: [2],\n",
       "    1: [2, 3],\n",
       "    2: [0, 4, 1],\n",
       "    3: [1, 4],\n",
       "    4: [2, 3] \n",
       "}\n",
       "\n",
       "node = 0\n",
       "visited = []\n",
       "dfs(node, graph, visited)\n",
       "print(f\"DFS traversal: {visited}\")"
      ]
     },
     {
      "cell_type": "markdown",
      "metadata": {},
      "source": [
       "## 2. Breadth First Search (BFS)"
      ]
     },
     {
      "cell_type": "code",
      "execution_count": null,
      "metadata": {},
      "outputs": [],
      "source": [
       "from collections import deque\n",
       "\n",
       "def bfs(graph, start):\n",
       "    visited = []\n",
       "    queue = deque([start])\n",
       "\n",
       "    while queue:\n",
       "        node = queue.popleft()\n",
       "        if node not in visited:\n",
       "            visited.append(node)\n",
       "            print(node)\n",
       "            queue.extend(neighbor for neighbor in graph[node] if neighbor not in visited)\n",
       "\n",
       "    return visited\n",
       "\n",
       "graph = {\n",
       "    '5': ['3', '7'],\n",
       "    '3': ['2', '4'],\n",
       "    '7': ['8'],\n",
       "    '2': [],\n",
       "    '4': ['8'],\n",
       "    '8': []\n",
       "}\n",
       "\n",
       "print(\"BFS traversal:\")\n",
       "bfs_result = bfs(graph, '5')\n",
       "print(f\"BFS traversal order: {bfs_result}\")"
      ]
     },
     {
      "cell_type": "markdown",
      "metadata": {},
      "source": [
       "## 3. Uniform Cost Search (UCS)"
      ]
     },
     {
      "cell_type": "code",
      "execution_count": null,
      "metadata": {},
      "outputs": [],
      "source": [
       "import heapq\n",
       "\n",
       "def ucs(graph, start, goal):\n",
       "    queue = [(0, start)]  # (cost, node)\n",
       "    visited = set()\n",
       "\n",
       "    while queue:\n",
       "        cost, node = heapq.heappop(queue)\n",
       "\n",
       "        if node == goal:\n",
       "            return cost  # Return cost to reach the goal\n",
       "\n",
       "        if node not in visited:\n",
       "            visited.add(node)\n",
       "            for neighbor, edge_cost in graph[node]:\n",
       "                if neighbor not in visited:\n",
       "                    heapq.heappush(queue, (cost + edge_cost, neighbor))\n",
       "\n",
       "    return float('inf')  # If goal is not reachable\n",
       "\n",
       "# Example graph with weighted edges\n",
       "graph = {\n",
       "    'A': [('B', 1), ('C', 3)],\n",
       "    'B': [('D', 2), ('E', 1)],\n",
       "    'C': [('E', 1)],\n",
       "    'D': [],\n",
       "    'E': []\n",
       "}\n",
       "\n",
       "result = ucs(graph, 'A', 'E')\n",
       "print(f\"Cost to reach goal: {result}\")"
      ]
     },
     {
      "cell_type": "markdown",
      "metadata": {},
      "source": [
       "## 4. Hill Climbing Search"
      ]
     },
     {
      "cell_type": "code",
      "execution_count": null,
      "metadata": {},
      "outputs": [],
      "source": [
       "import random\n",
       "\n",
       "def f(x):\n",
       "    return -x**2\n",
       "\n",
       "def neighbor(x):\n",
       "    return [x - 0.1, x, x + 0.1]\n",
       "\n",
       "def hill_climb(f, neighbor, x_range, max_iter=1000):\n",
       "    current = random.choice(x_range)\n",
       "    for _ in range(max_iter):\n",
       "        next_neighbor = max(neighbor(current), key=f)\n",
       "        if f(next_neighbor) <= f(current):\n",
       "            break\n",
       "        current = next_neighbor\n",
       "    return current, f(current)\n",
       "\n",
       "x_range = [x/10 for x in range(-100, 101)]  # Range from -10 to 10 with 0.1 step\n",
       "best_x, best_y = hill_climb(f, neighbor, x_range)\n",
       "\n",
       "print(f\"Best x: {best_x}, Best y: {best_y}\")"
      ]
     },
     {
      "cell_type": "markdown",
      "metadata": {},
      "source": [
       "## 5. A* Algorithm"
      ]
     },
     {
      "cell_type": "code",
      "execution_count": null,
      "metadata": {},
      "outputs": [],
      "source": [
       "import heapq\n",
       "\n",
       "def astar(graph, start, goal, heuristic):\n",
       "    frontier = [(0 + heuristic[start], 0, start)]\n",
       "    came_from = {}\n",
       "    cost_so_far = {start: 0}\n",
       "\n",
       "    while frontier:\n",
       "        _, current_cost, current = heapq.heappop(frontier)\n",
       "\n",
       "        if current == goal:\n",
       "            path = []\n",
       "            while current in came_from:\n",
       "                path.append(current)\n",
       "                current = came_from[current]\n",
       "            path.append(start)\n",
       "            return list(reversed(path))\n",
       "\n",
       "        for next_node, cost in graph[current].items():\n",
       "            new_cost = current_cost + cost\n",
       "            if next_node not in cost_so_far or new_cost < cost_so_far[next_node]:\n",
       "                cost_so_far[next_node] = new_cost\n",
       "                priority = new_cost + heuristic[next_node]\n",
       "                heapq.heappush(frontier, (priority, new_cost, next_node))\n",
       "                came_from[next_node] = current\n",
       "\n",
       "    return None\n",
       "\n",
       "graph = {\n",
       "    'A': {'B': 5, 'C': 10},\n",
       "    'B': {'D': 15},\n",
       "    'C': {'D': 20},\n",
       "    'D': {}\n",
       "}\n",
       "\n",
       "heuristic = {\n",
       "    'A': 15,\n",
       "    'B': 10,\n",
       "    'C': 5,\n",
       "    'D': 0\n",
       "}\n",
       "\n",
       "start = 'A'\n",
       "goal = 'D'\n",
       "path = astar(graph, start, goal, heuristic)\n",
       "print(f\"Shortest path from {start} to {goal}: {path}\")"
      ]
     },
     {
      "cell_type": "markdown",
      "metadata": {},
      "source": [
       "## 6. Crypt Arithmetic"
      ]
     },
     {
      "cell_type": "code",
      "execution_count": null,
      "metadata": {},
      "outputs": [],
      "source": [
       "from itertools import permutations\n",
       "\n",
       "def solve_cryptarithmetic(puzzle):\n",
       "    words = puzzle.split()\n",
       "    unique_letters = set(''.join(words))\n",
       "    leading_letters = {word[0] for word in words}\n",
       "    \n",
       "    for perm in permutations(range(10), len(unique_letters)):\n",
       "        solution = dict(zip(unique_letters, perm))\n",
       "        if all(solution[word[0]] != 0 for word in words if word[0] in leading_letters):\n",
       "            if sum(int(''.join(str(solution[c]) for c in word)) for word in words[:-1]) == \\\n",
       "               int(''.join(str(solution[c]) for c in words[-1])):\n",
       "                return solution\n",
       "    return None\n",
       "\n",
       "puzzle = \"SEND + MORE = MONEY\"\n",
       "solution = solve_cryptarithmetic(puzzle)\n",
       "\n",
       "if solution:\n",
       "    print(\"Solution found:\")\n",
       "    for letter, digit in solution.items():\n",
       "        print(f\"{letter}: {digit}\")\n",
       "else:\n",
       "    print(\"No solution found.\")"
      ]
     },
     {
      "cell_type": "markdown",
      "metadata": {},
      "source": [
       "## 7. Water Jug Problem"
      ]
     },
     {
      "cell_type": "code",
      "execution_count": null,
      "metadata": {},
      "outputs": [],
      "source": [
       "from collections import deque\n",
       "\n",
       "def water_jug_bfs(capacity_a, capacity_b, target):\n",
       "    visited = set()\n",
       "    queue = deque([(0, 0, [])])\n",
       "\n",
       "    while queue:\n",
       "        a, b, path = queue.popleft()\n",
       "        if a == target or b == target:\n",
       "            return path + [(a, b)]\n",
       "        \n",
       "        if (a, b) in visited:\n",
       "            continue\n",
       "        visited.add((a, b))\n",
       "\n",
       "        # Fill jug A\n",
       "        queue.append((capacity_a, b, path + [(a, b)]))\n",
       "        # Fill jug B\n",
       "        queue.append((a, capacity_b, path + [(a, b)]))\n",
       "        # Empty jug A\n",
       "        queue.append((0, b, path + [(a, b)]))\n",
       "        # Empty jug B\n",
       "        queue.append((a, 0, path + [(a, b)]))\n",
       "        # Pour from A to B\n",
       "        amount = min(a, capacity_b - b)\n",
       "        queue.append((a - amount, b + amount, path + [(a, b)]))\n",
       "        # Pour from B to A\n",
       "        amount = min(b, capacity_a - a)\n",
       "        queue.append((a + amount, b - amount, path + [(a, b)]))\n",
       "\n",
       "    return None\n",
       "\n",
       "capacity_a, capacity_b, target = 4, 3, 2\n",
       "solution = water_jug_bfs(capacity_a, capacity_b, target)\n",
       "\n",
       "if solution:\n",
       "    print(f\"Solution to get {target} gallons:\")\n",
       "    for step, (a, b) in enumerate(solution):\n",
       "        print(f\"Step {step}: Jug A = {a}, Jug B = {b}\")\n",
       "else:\n",
       "    print(\"No solution found.\")"
      ]
     },
     {
      "cell_type": "markdown",
      "metadata": {},
      "source": [
       "## 8. Missionaries and Cannibals Problem"
      ]
     }
    ]