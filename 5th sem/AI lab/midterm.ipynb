{
 "cells": [
  {
   "cell_type": "code",
   "execution_count": 61,
   "metadata": {},
   "outputs": [
    {
     "name": "stdout",
     "output_type": "stream",
     "text": [
      "0\n",
      "2\n",
      "4\n",
      "3\n",
      "1\n"
     ]
    }
   ],
   "source": [
    "def dfs(node, graph, visited):\n",
    "    visited.append(node)\n",
    "    print(node)\n",
    "    for neighbor in graph[node]:\n",
    "        if neighbor not in visited:\n",
    "            dfs(neighbor, graph, visited)\n",
    "graph = {\n",
    "        0:[2],\n",
    "        1:[2,3],\n",
    "        2:[0,4,1],\n",
    "        3:[1,4],\n",
    "        4:[2,3] \n",
    "    }\n",
    "\n",
    "node = 0\n",
    "visited = []\n",
    "component = []\n",
    "dfs(node, graph, visited)\n",
    "# print(f\"following is the component: {component}\")"
   ]
  },
  {
   "cell_type": "code",
   "execution_count": 62,
   "metadata": {},
   "outputs": [
    {
     "name": "stdout",
     "output_type": "stream",
     "text": [
      "5\n",
      "3\n",
      "7\n",
      "2\n",
      "4\n",
      "8\n"
     ]
    }
   ],
   "source": [
    "graph = {\n",
    "    '5':['3', '7'],\n",
    "    '3':['2', '4'],\n",
    "    '7':['8'],\n",
    "    '2':[],\n",
    "    '4':['8'],\n",
    "    '8':[]\n",
    "}\n",
    "\n",
    "def main():\n",
    "    visited = []\n",
    "    root = '5'  # Change root to string\n",
    "    queue = [root]\n",
    "\n",
    "    while(queue):\n",
    "        node = queue.pop(0)\n",
    "        visited.append(node)\n",
    "        print(node)\n",
    "        for neighbor in graph[node]:\n",
    "            if neighbor not in visited:\n",
    "                queue.append(neighbor)\n",
    "                visited.append(neighbor)\n",
    "\n",
    "main()       "
   ]
  },
  {
   "cell_type": "code",
   "execution_count": 63,
   "metadata": {},
   "outputs": [
    {
     "name": "stdout",
     "output_type": "stream",
     "text": [
      "Cost to reach goal: 2\n"
     ]
    }
   ],
   "source": [
    "import heapq\n",
    "\n",
    "def ucs(graph, start, goal):\n",
    "    queue = [(0, start)]  # (cost, node)\n",
    "    visited = set()\n",
    "\n",
    "    while queue:\n",
    "        cost, node = heapq.heappop(queue)\n",
    "\n",
    "        if node == goal:\n",
    "            return cost  # Return cost to reach the goal\n",
    "\n",
    "        if node not in visited:\n",
    "            visited.add(node)\n",
    "            for neighbor, edge_cost in graph[node]:\n",
    "                if neighbor not in visited:\n",
    "                    heapq.heappush(queue, (cost + edge_cost, neighbor))\n",
    "\n",
    "# Example graph with weighted edges\n",
    "graph = {\n",
    "    'A': [('B', 1), ('C', 3)],\n",
    "    'B': [('D', 2), ('E', 1)],\n",
    "    'C': [('E', 1)],\n",
    "    'D': [],\n",
    "    'E': []\n",
    "}\n",
    "\n",
    "result = ucs(graph, 'A', 'E')\n",
    "print(\"Cost to reach goal:\", result)"
   ]
  },
  {
   "cell_type": "code",
   "execution_count": 65,
   "metadata": {},
   "outputs": [
    {
     "name": "stdout",
     "output_type": "stream",
     "text": [
      "1.3877787807814457e-16 -1.9259299443872359e-32\n"
     ]
    }
   ],
   "source": [
    "import random\n",
    "\n",
    "def f(x):\n",
    "    return -x**2\n",
    "\n",
    "def neighbor(x):\n",
    "    return [x-0.1, x, x+0.1]\n",
    "\n",
    "x_range = range(11)\n",
    "\n",
    "def hill_climb(f, neighbor, x_range, max_iter=1000):\n",
    "    curr = random.choice(x_range)\n",
    "    for _ in range(max_iter):\n",
    "        nextnei = max(neighbor(curr), key = f)\n",
    "        if f(nextnei) < f(curr):\n",
    "            break\n",
    "        curr = nextnei\n",
    "    return curr, f(curr)\n",
    "\n",
    "bestx, besty = hill_climb(f, neighbor, x_range)\n",
    "\n",
    "print(bestx, besty)"
   ]
  },
  {
   "cell_type": "code",
   "execution_count": 66,
   "metadata": {},
   "outputs": [
    {
     "name": "stdout",
     "output_type": "stream",
     "text": [
      "shortest path from  A  to  D  :  ['A', 'B', 'D']\n"
     ]
    }
   ],
   "source": [
    "import heapq\n",
    "def astar(graph, start, goal, heuristic):\n",
    "\n",
    "    frontier = [(heuristic[start], start)]\n",
    "    visited = set()\n",
    "\n",
    "    cost = {start: 0}\n",
    "    path = {start: None}\n",
    "\n",
    "    while frontier:\n",
    "        _, current = heapq.heappop(frontier)\n",
    "        if current == goal:\n",
    "            \n",
    "            path_list = [current]\n",
    "            while path[current] != None:\n",
    "                path_list.append(path[current])\n",
    "                current = path[current]\n",
    "            path_list.reverse()\n",
    "            return path_list\n",
    "        visited.add(current)\n",
    "\n",
    "        for neighbor in graph[current]:\n",
    "            new_cost = cost[current] + graph[current][neighbor]\n",
    "            if neighbor not in cost or new_cost < cost[neighbor]:\n",
    "                cost[neighbor] = new_cost\n",
    "                priority = new_cost + heuristic[neighbor]\n",
    "                heapq. heappush (frontier, (priority, neighbor))\n",
    "                path[neighbor] = current\n",
    "    return None\n",
    "\n",
    "graph = {\n",
    "'A' : {'B':5, 'C':10},\n",
    "'B' : {'D':15},\n",
    "'C' : {'D':20},'D':{}\n",
    "}\n",
    "\n",
    "#Define the Heuristic as Dictionary\n",
    "heuristic = {\n",
    "'A':15,\n",
    "'B':10,\n",
    "'C':5,\n",
    "'D':0\n",
    "}\n",
    "\n",
    "start = 'A'\n",
    "goal = 'D'\n",
    "path = astar(graph, start, goal, heuristic)\n",
    "print(\"shortest path from \", start, \" to \", goal, \" : \", path)"
   ]
  },
  {
   "cell_type": "code",
   "execution_count": 3,
   "metadata": {},
   "outputs": [
    {
     "name": "stdout",
     "output_type": "stream",
     "text": [
      "Solution: {'s': 2, 'd': 7, 'e': 8, 'y': 5, 'n': 1, 'o': 3, 'm': 0, 'r': 6}\n",
      "Solution: {'s': 2, 'd': 9, 'e': 8, 'y': 7, 'n': 1, 'o': 3, 'm': 0, 'r': 6}\n",
      "Solution: {'s': 3, 'd': 1, 'e': 8, 'y': 9, 'n': 2, 'o': 4, 'm': 0, 'r': 6}\n",
      "Solution: {'s': 3, 'd': 2, 'e': 7, 'y': 9, 'n': 1, 'o': 4, 'm': 0, 'r': 6}\n",
      "Solution: {'s': 3, 'd': 9, 'e': 7, 'y': 6, 'n': 1, 'o': 4, 'm': 0, 'r': 5}\n",
      "Solution: {'s': 3, 'd': 9, 'e': 8, 'y': 7, 'n': 2, 'o': 4, 'm': 0, 'r': 5}\n",
      "Solution: {'s': 5, 'd': 1, 'e': 7, 'y': 8, 'n': 3, 'o': 6, 'm': 0, 'r': 4}\n",
      "Solution: {'s': 5, 'd': 2, 'e': 7, 'y': 9, 'n': 3, 'o': 6, 'm': 0, 'r': 4}\n",
      "Solution: {'s': 5, 'd': 9, 'e': 8, 'y': 7, 'n': 4, 'o': 6, 'm': 0, 'r': 3}\n",
      "Solution: {'s': 6, 'd': 1, 'e': 8, 'y': 9, 'n': 5, 'o': 7, 'm': 0, 'r': 3}\n",
      "Solution: {'s': 6, 'd': 3, 'e': 8, 'y': 1, 'n': 5, 'o': 7, 'm': 0, 'r': 2}\n",
      "Solution: {'s': 6, 'd': 4, 'e': 5, 'y': 9, 'n': 2, 'o': 7, 'm': 0, 'r': 3}\n",
      "Solution: {'s': 6, 'd': 5, 'e': 4, 'y': 9, 'n': 1, 'o': 7, 'm': 0, 'r': 3}\n",
      "Solution: {'s': 6, 'd': 9, 'e': 4, 'y': 3, 'n': 1, 'o': 7, 'm': 0, 'r': 2}\n",
      "Solution: {'s': 7, 'd': 1, 'e': 5, 'y': 6, 'n': 3, 'o': 8, 'm': 0, 'r': 2}\n",
      "Solution: {'s': 7, 'd': 3, 'e': 6, 'y': 9, 'n': 4, 'o': 8, 'm': 0, 'r': 2}\n",
      "Solution: {'s': 7, 'd': 4, 'e': 5, 'y': 9, 'n': 3, 'o': 8, 'm': 0, 'r': 2}\n",
      "Solution: {'s': 7, 'd': 6, 'e': 3, 'y': 9, 'n': 1, 'o': 8, 'm': 0, 'r': 2}\n",
      "Solution: {'s': 7, 'd': 9, 'e': 4, 'y': 3, 'n': 2, 'o': 8, 'm': 0, 'r': 1}\n",
      "Solution: {'s': 7, 'd': 9, 'e': 5, 'y': 4, 'n': 3, 'o': 8, 'm': 0, 'r': 1}\n",
      "Solution: {'s': 7, 'd': 9, 'e': 6, 'y': 5, 'n': 4, 'o': 8, 'm': 0, 'r': 1}\n",
      "Solution: {'s': 8, 'd': 2, 'e': 4, 'y': 6, 'n': 3, 'o': 9, 'm': 0, 'r': 1}\n",
      "Solution: {'s': 8, 'd': 2, 'e': 5, 'y': 7, 'n': 4, 'o': 9, 'm': 0, 'r': 1}\n",
      "Solution: {'s': 8, 'd': 4, 'e': 3, 'y': 7, 'n': 2, 'o': 9, 'm': 0, 'r': 1}\n",
      "Solution: {'s': 9, 'd': 7, 'e': 5, 'y': 2, 'n': 6, 'o': 0, 'm': 1, 'r': 8}\n"
     ]
    }
   ],
   "source": [
    "import itertools\n",
    "\n",
    "def get_value(word, substitution):\n",
    "    s = 0\n",
    "    factor = 1\n",
    "    for letter in reversed(word):\n",
    "        s += factor * substitution[letter]\n",
    "        factor *= 10\n",
    "    return s\n",
    "\n",
    "def solve(equation):\n",
    "    left, right = equation.lower().replace(' ', '').split('=')\n",
    "    left = left.split('+')\n",
    "    letters = set(right)\n",
    "    for word in left:\n",
    "        for letter in word:\n",
    "            letters.add(letter)\n",
    "    letters = list(letters)\n",
    "    digits = range(10)\n",
    "    for perm in itertools.permutations(digits, len(letters)):\n",
    "        sol = dict(zip(letters, perm))\n",
    "        if sum(get_value(word, sol) for word in left) == get_value(right, sol):\n",
    "            print(f\"Solution: {sol}\")\n",
    "\n",
    "solve('SEND + MORE = MONEY')"
   ]
  },
  {
   "cell_type": "code",
   "execution_count": 4,
   "metadata": {},
   "outputs": [
    {
     "name": "stdout",
     "output_type": "stream",
     "text": [
      "Path: [(0, 0), (4, 0), (4, 3), (0, 3), (3, 0), (3, 3), (4, 2)]\n"
     ]
    }
   ],
   "source": [
    "def solve(jug_sizes, target_volume, start_volumes):\n",
    "    explored = set()\n",
    "    start_state = tuple(start_volumes)\n",
    "    path = dfs(start_state, jug_sizes, target_volume, explored)\n",
    "    return path\n",
    "\n",
    "def dfs(current_state, jug_sizes, target_volume, explored):\n",
    "    jug1, jug2 = current_state\n",
    "    if jug1 == target_volume or jug2 == target_volume:\n",
    "        return [current_state]\n",
    "    explored.add(current_state)\n",
    "    successors = get_successors(current_state, jug_sizes)\n",
    "    for successor in successors:\n",
    "        if successor not in explored:\n",
    "            path = dfs(successor, jug_sizes, target_volume, explored)\n",
    "            if path is not None:\n",
    "                return [current_state] + path\n",
    "    return None\n",
    "\n",
    "def get_successors(state, jug_sizes):\n",
    "    jug1, jug2 = state\n",
    "    jug1_cap, jug2_cap = jug_sizes\n",
    "    successors = [\n",
    "        (jug1_cap, jug2), (jug1, jug2_cap), (0, jug2), (jug1, 0),\n",
    "        (jug1 - min(jug1, jug2_cap - jug2), jug2 + min(jug1, jug2_cap - jug2)),\n",
    "        (jug1 + min(jug2, jug1_cap - jug1), jug2 - min(jug2, jug1_cap - jug1))\n",
    "    ]\n",
    "    return [s for s in successors if is_valid_state(s, jug_sizes)]\n",
    "\n",
    "def is_valid_state(state, jug_sizes):\n",
    "    jug1_cap, jug2_cap = jug_sizes\n",
    "    jug1, jug2 = state\n",
    "    return 0 <= jug1 <= jug1_cap and 0 <= jug2 <= jug2_cap\n",
    "\n",
    "# Test\n",
    "jugs = (4, 3)\n",
    "target = 2\n",
    "start = (0, 0)\n",
    "path = solve(jugs, target, start)\n",
    "print(f\"Path: {path}\")\n",
    "    "
   ]
  },
  {
   "cell_type": "code",
   "execution_count": 4,
   "metadata": {},
   "outputs": [
    {
     "name": "stdout",
     "output_type": "stream",
     "text": [
      "Solution Path: [((3, 3), (0, 0), 1), ((3, 1), (0, 2), 0), ((3, 2), (0, 1), 1), ((3, 0), (0, 3), 0), ((3, 1), (0, 2), 1), ((1, 1), (2, 2), 0), ((2, 2), (1, 1), 1), ((0, 2), (3, 1), 0), ((0, 3), (3, 0), 1), ((0, 1), (3, 2), 0), ((0, 2), (3, 1), 1), ((0, 0), (3, 3), 0)]\n",
      "\n"
     ]
    }
   ],
   "source": [
    "#Missionaries and cannibals\n",
    "def valid(state):\n",
    "    if state[0][0] < state[0][1] and state[0][0] > 0:\n",
    "        return False\n",
    "    if state[1][0] < state[1][1] and state[1][0] > 0:\n",
    "        return False\n",
    "    return True\n",
    "\n",
    "def successors(state):\n",
    "    children = []\n",
    "    for i in range(3):\n",
    "        for j in range(3):\n",
    "            if i + j < 1 or i + j > 2:\n",
    "                continue\n",
    "            if state[2] == 1:\n",
    "                child = ((state[0][0] - i, state[0][1] - j), (state[1][0] + i, state[1][1] + j), 0)\n",
    "            else:\n",
    "                child = ((state[0][0] + i, state[0][1] + j), (state[1][0] - i, state[1][1] - j), 1)\n",
    "            if valid(child):\n",
    "                children.append(child)\n",
    "    return children\n",
    "\n",
    "def bfs(start, goal):\n",
    "    visited = set()\n",
    "    queue = [[start]]\n",
    "    while queue:\n",
    "        path = queue.pop(0)\n",
    "        node = path[-1]\n",
    "        if node == goal:\n",
    "            return path\n",
    "        for child in successors(node):\n",
    "            if child not in visited:\n",
    "                visited.add(child)\n",
    "                queue.append(path + [child])\n",
    "    return []\n",
    "\n",
    "# Test\n",
    "initial = ((3, 3), (0, 0), 1)\n",
    "goal = ((0, 0), (3, 3), 0)\n",
    "path = bfs(initial, goal)\n",
    "print(f\"Solution Path: {path}\\n\")\n"
   ]
  },
  {
   "cell_type": "code",
   "execution_count": 5,
   "metadata": {},
   "outputs": [
    {
     "name": "stdout",
     "output_type": "stream",
     "text": [
      "[1, 0, 0, 0, 0, 0, 0, 0]\n",
      "[0, 0, 0, 0, 0, 0, 1, 0]\n",
      "[0, 0, 0, 0, 1, 0, 0, 0]\n",
      "[0, 0, 0, 0, 0, 0, 0, 1]\n",
      "[0, 1, 0, 0, 0, 0, 0, 0]\n",
      "[0, 0, 0, 1, 0, 0, 0, 0]\n",
      "[0, 0, 0, 0, 0, 1, 0, 0]\n",
      "[0, 0, 1, 0, 0, 0, 0, 0]\n"
     ]
    },
    {
     "data": {
      "text/plain": [
       "True"
      ]
     },
     "execution_count": 5,
     "metadata": {},
     "output_type": "execute_result"
    }
   ],
   "source": [
    "def is_safe(board, row, col, n):\n",
    "    for i in range(col):\n",
    "        if board[row][i] == 1:\n",
    "            return False\n",
    "    for i, j in zip(range(row, -1, -1), range(col, -1, -1)):\n",
    "        if board[i][j] == 1:\n",
    "            return False\n",
    "    for i, j in zip(range(row, n), range(col, -1, -1)):\n",
    "        if board[i][j] == 1:\n",
    "            return False\n",
    "    return True\n",
    "\n",
    "def solve_n_queens(board, col, n):\n",
    "    if col == n:\n",
    "        print_board(board)\n",
    "        return True\n",
    "    for i in range(n):\n",
    "        if is_safe(board, i, col, n):\n",
    "            board[i][col] = 1\n",
    "            if solve_n_queens(board, col + 1, n):\n",
    "                return True\n",
    "            board[i][col] = 0\n",
    "    return False\n",
    "\n",
    "def print_board(board):\n",
    "    for row in board:\n",
    "        print(row)\n",
    "\n",
    "# Test\n",
    "n = 8\n",
    "board = [[0 for _ in range(n)] for _ in range(n)]\n",
    "solve_n_queens(board, 0, n)\n"
   ]
  },
  {
   "cell_type": "code",
   "execution_count": 6,
   "metadata": {},
   "outputs": [
    {
     "name": "stdout",
     "output_type": "stream",
     "text": [
      "Path: ['A', 'C', 'D', 'E']\n"
     ]
    }
   ],
   "source": [
    "import heapq\n",
    "\n",
    "def best_first_search(start, goal, heuristics, graph):\n",
    "    open_list = [(heuristics[start], start, [start])]\n",
    "    visited = set()\n",
    "    while open_list:\n",
    "        _, current_node, current_path = heapq.heappop(open_list)\n",
    "        if current_node == goal:\n",
    "            return current_path\n",
    "        visited.add(current_node)\n",
    "        for neighbor, cost in graph[current_node]:\n",
    "            if neighbor not in visited:\n",
    "                heapq.heappush(open_list, (heuristics[neighbor], neighbor, current_path + [neighbor]))\n",
    "    return None\n",
    "\n",
    "# Test\n",
    "heuristics = {'A': 5, 'B': 4, 'C': 3, 'D': 2, 'E': 0}\n",
    "graph = {'A': [('B', 3), ('C', 2)], 'B': [('D', 4)], 'C': [('D', 1)], 'D': [('E', 3)], 'E': []}\n",
    "start_node = 'A'\n",
    "goal_node = 'E'\n",
    "path = best_first_search(start_node, goal_node, heuristics, graph)\n",
    "print(f\"Path: {path}\")\n"
   ]
  }
 ],
 "metadata": {
  "kernelspec": {
   "display_name": "Python 3",
   "language": "python",
   "name": "python3"
  },
  "language_info": {
   "codemirror_mode": {
    "name": "ipython",
    "version": 3
   },
   "file_extension": ".py",
   "mimetype": "text/x-python",
   "name": "python",
   "nbconvert_exporter": "python",
   "pygments_lexer": "ipython3",
   "version": "3.12.4"
  }
 },
 "nbformat": 4,
 "nbformat_minor": 2
}
