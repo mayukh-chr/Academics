{
 "cells": [
  {
   "cell_type": "code",
   "execution_count": 15,
   "metadata": {},
   "outputs": [
    {
     "name": "stdout",
     "output_type": "stream",
     "text": [
      "['mean radius' 'mean texture' 'mean perimeter' 'mean area'\n",
      " 'mean smoothness' 'mean compactness' 'mean concavity'\n",
      " 'mean concave points' 'mean symmetry' 'mean fractal dimension'\n",
      " 'radius error' 'texture error' 'perimeter error' 'area error'\n",
      " 'smoothness error' 'compactness error' 'concavity error'\n",
      " 'concave points error' 'symmetry error' 'fractal dimension error'\n",
      " 'worst radius' 'worst texture' 'worst perimeter' 'worst area'\n",
      " 'worst smoothness' 'worst compactness' 'worst concavity'\n",
      " 'worst concave points' 'worst symmetry' 'worst fractal dimension']\n"
     ]
    },
    {
     "data": {
      "text/plain": [
       "array([[1.799e+01, 1.038e+01, 1.228e+02, ..., 2.654e-01, 4.601e-01,\n",
       "        1.189e-01],\n",
       "       [2.057e+01, 1.777e+01, 1.329e+02, ..., 1.860e-01, 2.750e-01,\n",
       "        8.902e-02],\n",
       "       [1.969e+01, 2.125e+01, 1.300e+02, ..., 2.430e-01, 3.613e-01,\n",
       "        8.758e-02],\n",
       "       ...,\n",
       "       [1.660e+01, 2.808e+01, 1.083e+02, ..., 1.418e-01, 2.218e-01,\n",
       "        7.820e-02],\n",
       "       [2.060e+01, 2.933e+01, 1.401e+02, ..., 2.650e-01, 4.087e-01,\n",
       "        1.240e-01],\n",
       "       [7.760e+00, 2.454e+01, 4.792e+01, ..., 0.000e+00, 2.871e-01,\n",
       "        7.039e-02]])"
      ]
     },
     "execution_count": 15,
     "metadata": {},
     "output_type": "execute_result"
    }
   ],
   "source": [
    "from sklearn.datasets import load_breast_cancer\n",
    "import pandas as pd\n",
    "data = (load_breast_cancer())\n",
    "df = pd.DataFrame(data, columns=data.feature_names)\n",
    "\n",
    "print(data.feature_names)\n",
    "\n",
    "x = data['data']\n",
    "y = data['target']\n",
    "\n",
    "data.data"
   ]
  },
  {
   "cell_type": "code",
   "execution_count": 2,
   "metadata": {},
   "outputs": [],
   "source": [
    "from sklearn.model_selection import train_test_split\n",
    "from sklearn.preprocessing import StandardScaler\n",
    "\n",
    "\n",
    "x_train, x_test, y_train, y_test = train_test_split(x, y, test_size=0.3, random_state=42)\n",
    "\n",
    "sc = StandardScaler()\n",
    "\n",
    "x_train = sc.fit_transform(x_train)\n",
    "x_test = sc.transform(x_test)"
   ]
  },
  {
   "cell_type": "markdown",
   "metadata": {},
   "source": [
    "#### Logistic Regression"
   ]
  },
  {
   "cell_type": "code",
   "execution_count": 3,
   "metadata": {},
   "outputs": [
    {
     "name": "stdout",
     "output_type": "stream",
     "text": [
      "confusion matrix: \n",
      " [[ 62   1]\n",
      " [  2 106]]\n",
      "precision score:  0.9906542056074766\n",
      "recall score :  0.9814814814814815\n",
      "f1 score:  0.986046511627907\n",
      "accuracy_score : 0.9824561403508771\n",
      "mae: 0.017543859649122806\n",
      "mse: 0.017543859649122806\n",
      "rmse: 0.13245323570650439\n"
     ]
    }
   ],
   "source": [
    "from sklearn.linear_model import LogisticRegression\n",
    "from sklearn.metrics import accuracy_score, confusion_matrix, precision_score, recall_score, f1_score, mean_absolute_error, mean_squared_error\n",
    "import math\n",
    "\n",
    "model = LogisticRegression()\n",
    "\n",
    "model.fit(x_train, y_train)\n",
    "\n",
    "pred = model.predict(x_test)\n",
    "\n",
    "print(\"confusion matrix: \\n\", confusion_matrix(y_test,pred))\n",
    "print(\"precision score: \", precision_score(y_test,pred))\n",
    "print(\"recall score : \", recall_score(y_test,pred))\n",
    "print(\"f1 score: \", f1_score(y_test,pred))\n",
    "print(f\"accuracy_score : {accuracy_score(y_test, pred)}\")\n",
    "print(f\"mae: {mean_absolute_error(y_test,pred)}\")\n",
    "print(f\"mse: {mean_squared_error(y_test,pred)}\")\n",
    "print(f\"rmse: {math.sqrt(mean_squared_error(y_test,pred))}\")\n",
    "\n",
    "\n",
    "accuracy = accuracy_score(y_test, pred)\n",
    "\n",
    "\n"
   ]
  },
  {
   "cell_type": "code",
   "execution_count": 35,
   "metadata": {},
   "outputs": [],
   "source": [
    "from sklearn.svm import SVC\n",
    "from sklearn.kernel_ridge import KernelRidge\n",
    "from sklearn.linear_model import LinearRegression\n",
    "\n",
    "from sklearn.linear_model import LogisticRegression\n",
    "from sklearn.tree import DecisionTreeClassifier\n",
    "from sklearn.neighbors import KNeighborsClassifier\n",
    "from sklearn.ensemble import RandomForestClassifier\n",
    "from sklearn.naive_bayes import GaussianNB\n",
    "\n",
    "model = KernelRidge(alpha=1.0, kernel='rbf')\n",
    "knnmodel = KNeighborsClassifier(n_neighbors = 5)\n",
    "model= RandomForestClassifier(n_estimators=7)\n",
    "\n",
    "# and just use the model as \n"
   ]
  },
  {
   "cell_type": "code",
   "execution_count": 8,
   "metadata": {},
   "outputs": [
    {
     "data": {
      "text/plain": [
       "<Axes: ylabel='Count'>"
      ]
     },
     "execution_count": 8,
     "metadata": {},
     "output_type": "execute_result"
    },
    {
     "data": {
      "image/png": "[encoded data removed]",
      "text/plain": [
       "<Figure size 640x480 with 1 Axes>"
      ]
     },
     "metadata": {},
     "output_type": "display_data"
    }
   ],
   "source": [
    "model = GaussianNB()\n",
    "\n",
    "model.fit(x_train, y_train)\n",
    "pred = model.predict(x_test)\n",
    "model.score(x_test, y_test)\n",
    "\n",
    "import seaborn as sns\n",
    "\n",
    "sns.histplot((y_test-pred), bins= 10)"
   ]
  },
  {
   "cell_type": "markdown",
   "metadata": {},
   "source": [
    "#### Regularization"
   ]
  },
  {
   "cell_type": "code",
   "execution_count": 5,
   "metadata": {},
   "outputs": [],
   "source": [
    "log_reg_l1 = LogisticRegression(penalty='l1', solver='liblinear', C=1.0, max_iter=1000)\n",
    "# or\n",
    "log_reg_l2 = LogisticRegression(penalty='l2', C=1.0, max_iter=1000) "
   ]
  },
  {
   "cell_type": "code",
   "execution_count": 44,
   "metadata": {},
   "outputs": [
    {
     "ename": "ImportError",
     "evalue": "cannot import name 'iris' from 'sklearn.datasets' (c:\\Users\\mayuk\\AppData\\Local\\Programs\\Python\\Python312\\Lib\\site-packages\\sklearn\\datasets\\__init__.py)",
     "output_type": "error",
     "traceback": [
      "\u001b[1;31m---------------------------------------------------------------------------\u001b[0m",
      "\u001b[1;31mImportError\u001b[0m                               Traceback (most recent call last)",
      "Cell \u001b[1;32mIn[44], line 2\u001b[0m\n\u001b[0;32m      1\u001b[0m \u001b[38;5;28;01mfrom\u001b[39;00m \u001b[38;5;21;01msklearn\u001b[39;00m\u001b[38;5;21;01m.\u001b[39;00m\u001b[38;5;21;01mdatasets\u001b[39;00m \u001b[38;5;28;01mimport\u001b[39;00m fetch_california_housing\n\u001b[1;32m----> 2\u001b[0m \u001b[38;5;28;01mfrom\u001b[39;00m \u001b[38;5;21;01msklearn\u001b[39;00m\u001b[38;5;21;01m.\u001b[39;00m\u001b[38;5;21;01mdatasets\u001b[39;00m \u001b[38;5;28;01mimport\u001b[39;00m iris\n\u001b[0;32m      4\u001b[0m data \u001b[38;5;241m=\u001b[39m fetch_california_housing()\n\u001b[0;32m      6\u001b[0m data\u001b[38;5;241m.\u001b[39mDESCR\n",
      "\u001b[1;31mImportError\u001b[0m: cannot import name 'iris' from 'sklearn.datasets' (c:\\Users\\mayuk\\AppData\\Local\\Programs\\Python\\Python312\\Lib\\site-packages\\sklearn\\datasets\\__init__.py)"
     ]
    }
   ],
   "source": [
    "from sklearn.datasets import fetch_california_housing\n",
    "from sklearn.datasets import load_iris\n",
    "from sklearn.datasets import load_breast_cancer\n",
    "\n",
    "data = fetch_california_housing()\n",
    "\n",
    "data.DESCR\n",
    "num_columns = data.data.shape[1]\n",
    "num_columns\n",
    "\n",
    "column_names = data.feature_names\n",
    "\n",
    "column_names\n",
    "data"
   ]
  },
  {
   "cell_type": "code",
   "execution_count": 34,
   "metadata": {},
   "outputs": [
    {
     "name": "stdout",
     "output_type": "stream",
     "text": [
      "here\n",
      "here2\n",
      "0.5430612921529177\n"
     ]
    }
   ],
   "source": [
    "from sklearn.model_selection import train_test_split\n",
    "from sklearn.linear_model import LinearRegression\n",
    "from sklearn.metrics import mean_absolute_error, mean_squared_error\n",
    "from sklearn.preprocessing import StandardScaler\n",
    "\n",
    "y = data.target\n",
    "x = data.data\n",
    "\n",
    "x_train, x_test, y_train, y_test = train_test_split(x,y,test_size=0.2)\n",
    "\n",
    "sc = StandardScaler()\n",
    "\n",
    "\n",
    "model = LinearRegression()\n",
    "\n",
    "model.fit(x_train, y_train)\n",
    "\n",
    "pred = model.predict(x_test)\n",
    "print(\"here\")\n",
    "# model.score(x_test, y_test)\n",
    "print(\"here2\")\n",
    "print(mean_absolute_error(y_test, pred))\n"
   ]
  },
  {
   "cell_type": "code",
   "execution_count": 47,
   "metadata": {},
   "outputs": [
    {
     "name": "stdout",
     "output_type": "stream",
     "text": [
      "-----------------------------------------\n",
      "mse: 0.5246853668149292\n",
      "mse2: 0.5403364478761729\n"
     ]
    },
    {
     "data": {
      "text/plain": [
       "<Axes: ylabel='Count'>"
      ]
     },
     "execution_count": 47,
     "metadata": {},
     "output_type": "execute_result"
    },
    {
     "data": {
      "image/png": "[encoded data removed]",
      "text/plain": [
       "<Figure size 640x480 with 1 Axes>"
      ]
     },
     "metadata": {},
     "output_type": "display_data"
    }
   ],
   "source": [
    "from sklearn.datasets import fetch_california_housing\n",
    "\n",
    "dataset = fetch_california_housing()\n",
    "\n",
    "dataset\n",
    "print(\"-----------------------------------------\")\n",
    "\n",
    "x = dataset.data\n",
    "y = dataset.target\n",
    "\n",
    "from sklearn.linear_model import LinearRegression\n",
    "\n",
    "model = LinearRegression()\n",
    "\n",
    "from sklearn.model_selection import train_test_split\n",
    "x_train, x_test, y_train, y_test = train_test_split(x,y,test_size=0.3)\n",
    "\n",
    "model.fit(x_train, y_train)\n",
    "\n",
    "y_pred = model.predict(x_test)\n",
    "from sklearn.metrics import mean_squared_error\n",
    "mse = mean_absolute_error(y_pred, y_test)\n",
    "mse2 = mean_squared_error(y_test, y_pred)\n",
    "print(f\"mse: {mse}\")\n",
    "print(f\"mse2: {mse2}\")\n",
    "\n",
    "import seaborn as sns\n",
    "sns.histplot((y_test-y_pred), bins= 50)"
   ]
  },
  {
   "cell_type": "code",
   "execution_count": 1,
   "metadata": {},
   "outputs": [
    {
     "name": "stdout",
     "output_type": "stream",
     "text": [
      "confusion matrix: \n",
      " [[ 53   9]\n",
      " [  4 105]]\n"
     ]
    },
    {
     "name": "stderr",
     "output_type": "stream",
     "text": [
      "c:\\Users\\mayuk\\AppData\\Local\\Programs\\Python\\Python312\\Lib\\site-packages\\sklearn\\ensemble\\_weight_boosting.py:527: FutureWarning: The SAMME.R algorithm (the default) is deprecated and will be removed in 1.6. Use the SAMME algorithm to circumvent this warning.\n",
      "  warnings.warn(\n"
     ]
    }
   ],
   "source": [
    "from sklearn.datasets import load_breast_cancer\n",
    "from sklearn.model_selection import train_test_split\n",
    "from sklearn.ensemble import AdaBoostClassifier\n",
    "from sklearn.metrics import accuracy_score, confusion_matrix\n",
    "from sklearn.metrics import mean_squared_error\n",
    "data = load_breast_cancer()\n",
    "x = data.data\n",
    "y = data.target\n",
    "\n",
    "x_train, x_test, y_train, y_test = train_test_split(x, y, test_size=0.3)\n",
    "\n",
    "model = AdaBoostClassifier()\n",
    "\n",
    "\n",
    "model.fit(x_train, y_train)\n",
    "\n",
    "pred = model.predict(x_test)\n",
    "\n",
    "\n",
    "print(\"confusion matrix: \\n\", confusion_matrix(y_test,pred))\n",
    "\n",
    "\n"
   ]
  },
  {
   "cell_type": "code",
   "execution_count": 5,
   "metadata": {},
   "outputs": [
    {
     "name": "stdout",
     "output_type": "stream",
     "text": [
      "Confusion matrix:\n",
      " [[ 51  11]\n",
      " [  2 107]]\n"
     ]
    }
   ],
   "source": [
    "from sklearn.decomposition import PCA\n",
    "from sklearn.metrics import confusion_matrix\n",
    "\n",
    "# PCA transformation\n",
    "## PCA is only used for  dimensionality reduction \n",
    "pca = PCA(n_components=3)\n",
    "x_train_transformed = pca.fit_transform(x_train)  # Only use X, not y\n",
    "x_test_transformed = pca.transform(x_test)\n",
    "\n",
    "# After PCA, you'll need a classifier to make predictions\n",
    "# For example, using a random forest classifier:\n",
    "from sklearn.ensemble import RandomForestClassifier\n",
    "\n",
    "classifier = RandomForestClassifier()\n",
    "classifier.fit(x_train_transformed, y_train)\n",
    "pred = classifier.predict(x_test_transformed)\n",
    "\n",
    "# Now you can compute the confusion matrix\n",
    "print(\"Confusion matrix:\\n\", confusion_matrix(y_test, pred))"
   ]
  },
  {
   "cell_type": "code",
   "execution_count": 17,
   "metadata": {},
   "outputs": [
    {
     "name": "stdout",
     "output_type": "stream",
     "text": [
      "Default Logistic Regression accuracy: 0.9766081871345029\n",
      "Logistic Regression with L1 regularization accuracy: 0.9649122807017544\n",
      "Logistic Regression with L2 regularization accuracy: 0.9766081871345029\n"
     ]
    }
   ],
   "source": [
    "from sklearn.linear_model import LogisticRegression\n",
    "from sklearn.datasets import load_breast_cancer\n",
    "from sklearn.metrics import accuracy_score\n",
    "from sklearn.model_selection import train_test_split\n",
    "\n",
    "# Load the breast cancer dataset\n",
    "data = load_breast_cancer()\n",
    "x = data.data\n",
    "y = data.target\n",
    "\n",
    "# Split the dataset into training and testing sets\n",
    "x_train, x_test, y_train, y_test = train_test_split(x, y, test_size=0.3, random_state=42)\n",
    "\n",
    "# Instantiate the models\n",
    "model = LogisticRegression(max_iter=10000)  # Default model\n",
    "modelL1 = LogisticRegression(penalty='l1', solver='liblinear', C=1.0, max_iter=10000)\n",
    "modelL2 = LogisticRegression(penalty='l2', C=1.0, max_iter=10000)\n",
    "\n",
    "# Fit the models on the training data\n",
    "model.fit(x_train, y_train)\n",
    "modelL1.fit(x_train, y_train)\n",
    "modelL2.fit(x_train, y_train)\n",
    "\n",
    "# Predict using the testing data\n",
    "pred = model.predict(x_test)\n",
    "predL1 = modelL1.predict(x_test)\n",
    "predL2 = modelL2.predict(x_test)\n",
    "\n",
    "# Calculate accuracy for each model\n",
    "acc = accuracy_score(y_test, pred)\n",
    "accL1 = accuracy_score(y_test, predL1)\n",
    "accL2 = accuracy_score(y_test, predL2)\n",
    "\n",
    "# Print the accuracy results\n",
    "print(f\"Default Logistic Regression accuracy: {acc}\")\n",
    "print(f\"Logistic Regression with L1 regularization accuracy: {accL1}\")\n",
    "print(f\"Logistic Regression with L2 regularization accuracy: {accL2}\")\n"
   ]
  },
  {
   "cell_type": "code",
   "execution_count": 19,
   "metadata": {},
   "outputs": [
    {
     "data": {
      "text/plain": [
       "0.9590643274853801"
      ]
     },
     "execution_count": 19,
     "metadata": {},
     "output_type": "execute_result"
    }
   ],
   "source": [
    "from sklearn.neural_network import MLPClassifier\n",
    "\n",
    "model = MLPClassifier(max_iter=1000)\n",
    "\n",
    "model.fit(x_train, y_train)\n",
    "\n",
    "model.score(x_test, y_test)"
   ]
  }
 ],
 "metadata": {
  "kernelspec": {
   "display_name": "Python 3",
   "language": "python",
   "name": "python3"
  },
  "language_info": {
   "codemirror_mode": {
    "name": "ipython",
    "version": 3
   },
   "file_extension": ".py",
   "mimetype": "text/x-python",
   "name": "python",
   "nbconvert_exporter": "python",
   "pygments_lexer": "ipython3",
   "version": "3.12.4"
  }
 },
 "nbformat": 4,
 "nbformat_minor": 2
}
