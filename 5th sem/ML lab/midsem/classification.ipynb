{
 "cells": [
  {
   "cell_type": "code",
   "execution_count": 94,
   "metadata": {},
   "outputs": [],
   "source": [
    "from sklearn.datasets import load_breast_cancer\n",
    "from sklearn.model_selection import train_test_split\n",
    "from sklearn.preprocessing import StandardScaler\n",
    "from sklearn.linear_model import LogisticRegression\n",
    "from sklearn.metrics import accuracy_score, confusion_matrix\n",
    "\n",
    "# Load the dataset\n",
    "data = load_breast_cancer()\n",
    "x = data.data\n",
    "y = data.target\n",
    "\n",
    "# Split the data into training and testing sets\n",
    "x_train, x_test, y_train, y_test = train_test_split(x, y, test_size=0.2, random_state=42)\n",
    "\n",
    "# Standardize the dataset (important for logistic regression and SVM)\n",
    "scaler = StandardScaler()\n",
    "x_train = scaler.fit_transform(x_train)\n",
    "x_test = scaler.transform(x_test)\n"
   ]
  },
  {
   "cell_type": "markdown",
   "metadata": {},
   "source": [
    "#### Logistic Regression"
   ]
  },
  {
   "cell_type": "code",
   "execution_count": 95,
   "metadata": {},
   "outputs": [
    {
     "name": "stdout",
     "output_type": "stream",
     "text": [
      "Accuracy of the logistic model is 97.368421053%\n"
     ]
    }
   ],
   "source": [
    "from sklearn.linear_model import LogisticRegression\n",
    "from sklearn.metrics import accuracy_score,confusion_matrix\n",
    "\n",
    "model=LogisticRegression()\n",
    "model.fit(x_train,y_train)\n",
    "ly_pred=model.predict(x_test)\n",
    "\n",
    "confusion_matrix(y_test,ly_pred)\n",
    "L_accuracy=accuracy_score(y_test,ly_pred)*100\n",
    "print(\"Accuracy of the logistic model is {:.9f}%\".format(L_accuracy))"
   ]
  },
  {
   "cell_type": "markdown",
   "metadata": {},
   "source": [
    "#### Support Vector Machines"
   ]
  },
  {
   "cell_type": "code",
   "execution_count": 96,
   "metadata": {},
   "outputs": [
    {
     "name": "stdout",
     "output_type": "stream",
     "text": [
      "Accuracy: 98.245614035\n"
     ]
    }
   ],
   "source": [
    "from sklearn.svm import SVC\n",
    "from sklearn.preprocessing import StandardScaler\n",
    "\n",
    "scaler = StandardScaler()\n",
    "x_train = scaler.fit_transform(x_train)\n",
    "x_test = scaler.transform(x_test)\n",
    "\n",
    "# Initialize and train the SVM classifier\n",
    "svm_model = SVC(kernel='rbf')  # You can also use other kernels like 'rbf', 'poly', etc.\n",
    "svm_model.fit(x_train, y_train)\n",
    "\n",
    "# Make predictions\n",
    "sy_pred = svm_model.predict(x_test)\n",
    "\n",
    "# Evaluate accuracy\n",
    "accuracy = accuracy_score(y_test, sy_pred)*100\n",
    "print(f\"Accuracy: {accuracy:.9f}\")"
   ]
  },
  {
   "cell_type": "markdown",
   "metadata": {},
   "source": [
    "#### Decision Trees"
   ]
  },
  {
   "cell_type": "code",
   "execution_count": 97,
   "metadata": {},
   "outputs": [
    {
     "name": "stdout",
     "output_type": "stream",
     "text": [
      "Accuracy: 0.9385964912280702\n"
     ]
    }
   ],
   "source": [
    "from sklearn.tree import DecisionTreeClassifier\n",
    "\n",
    "dtc = DecisionTreeClassifier()\n",
    "dtc.fit(x_train, y_train)\n",
    "\n",
    "y_pred = dtc.predict(x_test)\n",
    "\n",
    "accuracy = dtc.score(x_test, y_test)\n",
    "print(\"Accuracy:\", accuracy)"
   ]
  },
  {
   "cell_type": "markdown",
   "metadata": {},
   "source": [
    "#### K Nearest Neightbors"
   ]
  },
  {
   "cell_type": "code",
   "execution_count": 98,
   "metadata": {},
   "outputs": [
    {
     "data": {
      "text/plain": [
       "0.9473684210526315"
      ]
     },
     "execution_count": 98,
     "metadata": {},
     "output_type": "execute_result"
    }
   ],
   "source": [
    "from sklearn.neighbors import KNeighborsClassifier\n",
    "\n",
    "knn = KNeighborsClassifier(n_neighbors=5)\n",
    "\n",
    "knn.fit(x_train, y_train)\n",
    "\n",
    "y_pred = knn.predict(x_test)\n",
    "\n",
    "knn.score(x_test, y_test)"
   ]
  },
  {
   "cell_type": "markdown",
   "metadata": {},
   "source": [
    "#### Random Forest Classification"
   ]
  },
  {
   "cell_type": "code",
   "execution_count": 99,
   "metadata": {},
   "outputs": [
    {
     "name": "stdout",
     "output_type": "stream",
     "text": [
      "Random Forest Accuracy: 0.9649\n",
      "Confusion Matrix for Random Forest:\n",
      "[[40  3]\n",
      " [ 1 70]]\n"
     ]
    }
   ],
   "source": [
    "from sklearn.ensemble import RandomForestClassifier\n",
    "\n",
    "rf_model = RandomForestClassifier(n_estimators=100, random_state=42)\n",
    "\n",
    "# Train the model\n",
    "rf_model.fit(x_train, y_train)\n",
    "\n",
    "# Make predictions on the test set\n",
    "rf_pred = rf_model.predict(x_test)\n",
    "\n",
    "# Accuracy of Random Forest\n",
    "rf_acc = accuracy_score(y_test, rf_pred)\n",
    "print(f\"Random Forest Accuracy: {rf_acc:.4f}\")\n",
    "\n",
    "# Confusion Matrix for Random Forest\n",
    "print(\"Confusion Matrix for Random Forest:\")\n",
    "print(confusion_matrix(y_test, rf_pred))"
   ]
  },
  {
   "cell_type": "markdown",
   "metadata": {},
   "source": [
    "#### Kernel Ridge Regression"
   ]
  },
  {
   "cell_type": "code",
   "execution_count": 105,
   "metadata": {},
   "outputs": [
    {
     "name": "stdout",
     "output_type": "stream",
     "text": [
      "Mean Squared Error of Kernel Ridge Regression: 0.0378\n",
      "accuracy: 0.8392149687034245\n"
     ]
    }
   ],
   "source": [
    "from sklearn.kernel_ridge import KernelRidge\n",
    "from sklearn.metrics import mean_squared_error\n",
    "\n",
    "# Initialize and train the Kernel Ridge Regression model\n",
    "kr_model = KernelRidge(alpha=1.0, kernel='rbf')\n",
    "kr_model.fit(x_train, y_train)\n",
    "\n",
    "# Make predictions\n",
    "kr_pred = kr_model.predict(x_test)\n",
    "\n",
    "# Evaluate the model\n",
    "kr_mse = mean_squared_error(y_test, kr_pred)\n",
    "print(f\"Mean Squared Error of Kernel Ridge Regression: {kr_mse:.4f}\")\n",
    "accuracy = kr_model.score(x_test, y_test)\n",
    "print(f\"accuracy: {accuracy}\")"
   ]
  },
  {
   "cell_type": "markdown",
   "metadata": {},
   "source": [
    "#### Regularisation"
   ]
  },
  {
   "cell_type": "code",
   "execution_count": 101,
   "metadata": {},
   "outputs": [
    {
     "name": "stdout",
     "output_type": "stream",
     "text": [
      "Accuracy without Regularization: 0.9386\n",
      "Confusion Matrix without Regularization:\n",
      "[[42  1]\n",
      " [ 6 65]]\n"
     ]
    }
   ],
   "source": [
    "# Logistic Regression without regularization\n",
    "log_reg_no_reg = LogisticRegression(penalty=None, max_iter=1000)\n",
    "log_reg_no_reg.fit(x_train, y_train)\n",
    "no_reg_pred = log_reg_no_reg.predict(x_test)\n",
    "\n",
    "# Accuracy and confusion matrix\n",
    "no_reg_acc = accuracy_score(y_test, no_reg_pred)\n",
    "print(f\"Accuracy without Regularization: {no_reg_acc:.4f}\")\n",
    "print(\"Confusion Matrix without Regularization:\")\n",
    "print(confusion_matrix(y_test, no_reg_pred))\n"
   ]
  },
  {
   "cell_type": "code",
   "execution_count": 102,
   "metadata": {},
   "outputs": [
    {
     "name": "stdout",
     "output_type": "stream",
     "text": [
      "Accuracy with L2 Regularization: 0.9737\n",
      "Confusion Matrix with L2 Regularization:\n",
      "[[41  2]\n",
      " [ 1 70]]\n"
     ]
    }
   ],
   "source": [
    "# Logistic Regression with L2 Regularization (Ridge)\n",
    "log_reg_l2 = LogisticRegression(penalty='l2', C=1.0, max_iter=1000)  # C=1.0 is default, smaller values increase regularization\n",
    "log_reg_l2.fit(x_train, y_train)\n",
    "l2_pred = log_reg_l2.predict(x_test)\n",
    "\n",
    "# Accuracy and confusion matrix\n",
    "l2_acc = accuracy_score(y_test, l2_pred)\n",
    "print(f\"Accuracy with L2 Regularization: {l2_acc:.4f}\")\n",
    "print(\"Confusion Matrix with L2 Regularization:\")\n",
    "print(confusion_matrix(y_test, l2_pred))\n"
   ]
  },
  {
   "cell_type": "code",
   "execution_count": 103,
   "metadata": {},
   "outputs": [
    {
     "name": "stdout",
     "output_type": "stream",
     "text": [
      "Accuracy with L1 Regularization: 0.9737\n",
      "Confusion Matrix with L1 Regularization:\n",
      "[[42  1]\n",
      " [ 2 69]]\n"
     ]
    }
   ],
   "source": [
    "# Logistic Regression with L1 Regularization (Lasso)\n",
    "log_reg_l1 = LogisticRegression(penalty='l1', solver='liblinear', C=1.0, max_iter=1000)\n",
    "log_reg_l1.fit(x_train, y_train)\n",
    "l1_pred = log_reg_l1.predict(x_test)\n",
    "\n",
    "# Accuracy and confusion matrix\n",
    "l1_acc = accuracy_score(y_test, l1_pred)\n",
    "print(f\"Accuracy with L1 Regularization: {l1_acc:.4f}\")\n",
    "print(\"Confusion Matrix with L1 Regularization:\")\n",
    "print(confusion_matrix(y_test, l1_pred))\n"
   ]
  },
  {
   "cell_type": "code",
   "execution_count": 104,
   "metadata": {},
   "outputs": [
    {
     "name": "stdout",
     "output_type": "stream",
     "text": [
      "Coefficients without regularization: [[   9.43309636  -16.98638813   40.02092582   10.89014962    5.03344322\n",
      "   274.94009818 -134.8381584  -266.18473606   40.99650503 -168.01794604\n",
      "  -259.63946217   35.91792789  115.35011389 -167.38940131  -79.54006031\n",
      "   -97.5741303   246.60809325  -70.05165414   95.95418597  131.93923412\n",
      "  -105.87135969  -91.92127648   73.01874488 -103.73668988   93.97496151\n",
      "    29.28537604 -244.05971135   -8.90816016 -169.6548548    59.68383553]]\n",
      "Coefficients with L2 regularization: [[-0.43190368 -0.38732553 -0.39343248 -0.46521006 -0.07166728  0.54016395\n",
      "  -0.8014581  -1.11980408  0.23611852  0.07592093 -1.26817815  0.18887738\n",
      "  -0.61058302 -0.9071857  -0.31330675  0.68249145  0.17527452 -0.3112999\n",
      "   0.50042502  0.61622993 -0.87984024 -1.35060559 -0.58945273 -0.84184594\n",
      "  -0.54416967  0.01611019 -0.94305313 -0.77821726 -1.20820031 -0.15741387]]\n",
      "Coefficients with L1 regularization: [[ 0.          0.          0.          0.          0.          0.\n",
      "   0.         -2.4420781   0.01757261  0.         -2.46691984  0.38395969\n",
      "   0.          0.         -0.43321663  0.8886964   0.          0.\n",
      "   0.4655831   0.28070094 -0.72362578 -1.85369108  0.         -3.16442798\n",
      "  -0.1625447   0.         -1.29460583  0.         -1.03573728  0.        ]]\n"
     ]
    }
   ],
   "source": [
    "# Coefficients without regularization\n",
    "print(\"Coefficients without regularization:\", log_reg_no_reg.coef_)\n",
    "\n",
    "# Coefficients with L2 regularization\n",
    "print(\"Coefficients with L2 regularization:\", log_reg_l2.coef_)\n",
    "\n",
    "# Coefficients with L1 regularization\n",
    "print(\"Coefficients with L1 regularization:\", log_reg_l1.coef_)\n"
   ]
  },
  {
   "cell_type": "code",
   "execution_count": null,
   "metadata": {},
   "outputs": [],
   "source": []
  }
 ],
 "metadata": {
  "kernelspec": {
   "display_name": "Python 3",
   "language": "python",
   "name": "python3"
  },
  "language_info": {
   "codemirror_mode": {
    "name": "ipython",
    "version": 3
   },
   "file_extension": ".py",
   "mimetype": "text/x-python",
   "name": "python",
   "nbconvert_exporter": "python",
   "pygments_lexer": "ipython3",
   "version": "3.12.4"
  }
 },
 "nbformat": 4,
 "nbformat_minor": 2
}
