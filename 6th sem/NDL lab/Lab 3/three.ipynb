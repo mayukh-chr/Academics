{
 "cells": [
  {
   "cell_type": "markdown",
   "metadata": {},
   "source": [
    "## Implement the Gate Operations(AND, OR, XOR, NAND, NOR, XNOR, NOT) using single layer perceptron\n"
   ]
  },
  {
   "cell_type": "code",
   "execution_count": 1,
   "metadata": {},
   "outputs": [
    {
     "name": "stdout",
     "output_type": "stream",
     "text": [
      "0\n",
      "0\n",
      "0\n",
      "1\n"
     ]
    }
   ],
   "source": [
    "import numpy as np\n",
    "\n",
    "def perceptron_AND(x1, x2):\n",
    "    weights = np.array([0.5, 0.5])\n",
    "    bias = -0.7\n",
    "    x = np.array([x1, x2])\n",
    "    output = np.dot(weights, x) + bias\n",
    "    return 1 if output > 0 else 0\n",
    "\n",
    "# Testing AND Gate\n",
    "print(perceptron_AND(0, 0))  # Output: 0\n",
    "print(perceptron_AND(0, 1))  # Output: 0\n",
    "print(perceptron_AND(1, 0))  # Output: 0\n",
    "print(perceptron_AND(1, 1))  # Output: 1"
   ]
  },
  {
   "cell_type": "code",
   "execution_count": 2,
   "metadata": {},
   "outputs": [
    {
     "name": "stdout",
     "output_type": "stream",
     "text": [
      "0\n",
      "1\n",
      "1\n",
      "1\n"
     ]
    }
   ],
   "source": [
    "def perceptron_OR(x1, x2):\n",
    "    weights = np.array([0.5, 0.5])\n",
    "    bias = -0.2\n",
    "    x = np.array([x1, x2])\n",
    "    output = np.dot(weights, x) + bias\n",
    "    return 1 if output > 0 else 0\n",
    "\n",
    "# Testing OR Gate\n",
    "print(perceptron_OR(0, 0))  # Output: 0\n",
    "print(perceptron_OR(0, 1))  # Output: 1\n",
    "print(perceptron_OR(1, 0))  # Output: 1\n",
    "print(perceptron_OR(1, 1))  # Output: 1"
   ]
  },
  {
   "cell_type": "code",
   "execution_count": 3,
   "metadata": {},
   "outputs": [
    {
     "name": "stdout",
     "output_type": "stream",
     "text": [
      "1\n",
      "1\n",
      "1\n",
      "0\n"
     ]
    }
   ],
   "source": [
    "def perceptron_NAND(x1, x2):\n",
    "    weights = np.array([-0.5, -0.5])\n",
    "    bias = 0.7\n",
    "    x = np.array([x1, x2])\n",
    "    output = np.dot(weights, x) + bias\n",
    "    return 1 if output > 0 else 0\n",
    "\n",
    "# Testing NAND Gate\n",
    "print(perceptron_NAND(0, 0))  # Output: 1\n",
    "print(perceptron_NAND(0, 1))  # Output: 1\n",
    "print(perceptron_NAND(1, 0))  # Output: 1\n",
    "print(perceptron_NAND(1, 1))  # Output: 0"
   ]
  },
  {
   "cell_type": "code",
   "execution_count": 4,
   "metadata": {},
   "outputs": [
    {
     "name": "stdout",
     "output_type": "stream",
     "text": [
      "1\n",
      "0\n",
      "0\n",
      "0\n"
     ]
    }
   ],
   "source": [
    "def perceptron_NOR(x1, x2):\n",
    "    weights = np.array([-0.5, -0.5])\n",
    "    bias = 0.2\n",
    "    x = np.array([x1, x2])\n",
    "    output = np.dot(weights, x) + bias\n",
    "    return 1 if output > 0 else 0\n",
    "\n",
    "# Testing NOR Gate\n",
    "print(perceptron_NOR(0, 0))  # Output: 1\n",
    "print(perceptron_NOR(0, 1))  # Output: 0\n",
    "print(perceptron_NOR(1, 0))  # Output: 0\n",
    "print(perceptron_NOR(1, 1))  # Output: 0"
   ]
  },
  {
   "cell_type": "code",
   "execution_count": 5,
   "metadata": {},
   "outputs": [
    {
     "name": "stdout",
     "output_type": "stream",
     "text": [
      "1\n",
      "0\n"
     ]
    }
   ],
   "source": [
    "def perceptron_NOT(x):\n",
    "    weight = -1\n",
    "    bias = 0.5\n",
    "    output = weight * x + bias\n",
    "    return 1 if output > 0 else 0\n",
    "\n",
    "# Testing NOT Gate\n",
    "print(perceptron_NOT(0))  # Output: 1\n",
    "print(perceptron_NOT(1))  # Output: 0"
   ]
  }
 ],
 "metadata": {
  "kernelspec": {
   "display_name": "Python 3",
   "language": "python",
   "name": "python3"
  },
  "language_info": {
   "codemirror_mode": {
    "name": "ipython",
    "version": 3
   },
   "file_extension": ".py",
   "mimetype": "text/x-python",
   "name": "python",
   "nbconvert_exporter": "python",
   "pygments_lexer": "ipython3",
   "version": "3.11.9"
  }
 },
 "nbformat": 4,
 "nbformat_minor": 2
}
