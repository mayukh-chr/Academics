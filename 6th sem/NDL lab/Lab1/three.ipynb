{
 "cells": [
  {
   "cell_type": "code",
   "execution_count": null,
   "metadata": {
    "vscode": {
     "languageId": "plaintext"
    }
   },
   "outputs": [],
   "source": [
    "import numpy as np\n",
    "\n",
    "# Define the XOR dataset\n",
    "X = np.array([[0, 0], [0, 1], [1, 0], [1, 1]])  # Input\n",
    "y = np.array([[0], [1], [1], [0]])  # Output\n",
    "\n",
    "# Radial Basis Function (Gaussian)\n",
    "def gaussian_rbf(x, center, sigma):\n",
    "    return np.exp(-np.linalg.norm(x - center) ** 2 / (2 * sigma ** 2))\n",
    "\n",
    "# Train RBFNN\n",
    "def train_rbfn(X, y, num_centers=2, sigma=1.0):\n",
    "    # Step 1: Select centers (typically randomly chosen from X)\n",
    "    centers = np.array([[0, 1], [1, 0]])  # Manually selecting good centers for XOR\n",
    "    sigma = sigma  # Fixed width for Gaussians\n",
    "\n",
    "    # Step 2: Compute the RBF activations\n",
    "    RBF_activations = np.array([[gaussian_rbf(x, c, sigma) for c in centers] for x in X])\n",
    "\n",
    "    # Step 3: Compute output weights using pseudo-inverse\n",
    "    W = np.linalg.pinv(RBF_activations) @ y\n",
    "    return centers, W, sigma\n",
    "\n",
    "# Predict function\n",
    "def predict(X, centers, W, sigma):\n",
    "    RBF_activations = np.array([[gaussian_rbf(x, c, sigma) for c in centers] for x in X])\n",
    "    return (RBF_activations @ W).round()  # Threshold output to 0/1\n",
    "\n",
    "# Train and Test\n",
    "centers, W, sigma = train_rbfn(X, y)\n",
    "predictions = predict(X, centers, W, sigma)\n",
    "\n",
    "print(\"Predictions:\", predictions.flatten())\n"
   ]
  }
 ],
 "metadata": {
  "language_info": {
   "name": "python"
  }
 },
 "nbformat": 4,
 "nbformat_minor": 2
}
