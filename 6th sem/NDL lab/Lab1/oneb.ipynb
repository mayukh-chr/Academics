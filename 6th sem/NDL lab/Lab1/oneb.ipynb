{
 "cells": [
  {
   "cell_type": "code",
   "execution_count": 1,
   "metadata": {},
   "outputs": [],
   "source": [
    "import numpy as np\n",
    "from collections import Counter"
   ]
  },
  {
   "cell_type": "markdown",
   "metadata": {},
   "source": [
    "## Error Correction Learning"
   ]
  },
  {
   "cell_type": "code",
   "execution_count": 9,
   "metadata": {},
   "outputs": [
    {
     "name": "stdout",
     "output_type": "stream",
     "text": [
      "Input:  [0 0 1]  Output:  0.005535146385576294\n",
      "Input:  [1 1 1]  Output:  0.9952373954443243\n",
      "Input:  [1 0 1]  Output:  0.9963128039684271\n",
      "Input:  [0 1 1]  Output:  0.0042860471467163885\n"
     ]
    }
   ],
   "source": [
    "class Neuron:\n",
    "    def __init__(self,num_inputs):\n",
    "        self.weights = np.random.rand(num_inputs)\n",
    "        self.bias = np.random.rand()\n",
    "    def activate(self,inputs):\n",
    "        weighted_sum = np.dot(inputs,self.weights) + self.bias\n",
    "        activation = self.sigmoid(weighted_sum)\n",
    "        return activation\n",
    "    def sigmoid(self,x):\n",
    "        return 1/(1+np.exp(-x))\n",
    "    \n",
    "    def train(self,inputs,target_output,learning_rate):\n",
    "        actual_output = self.activate(inputs)\n",
    "        error = target_output - actual_output\n",
    "        self.weights += learning_rate*error*inputs\n",
    "        self.bias += learning_rate*error\n",
    "if __name__ == \"__main__\":\n",
    "    num_inputs = 3\n",
    "    neuron = Neuron(num_inputs)\n",
    "    x_train = [[0,0,1],[1,1,1],[1,0,1],[0,1,1]]\n",
    "    y_train = np.array([0,1,1,0])\n",
    "    learning_rate = 0.1\n",
    "    num_itterations = 10000\n",
    "    for i in range(num_itterations):\n",
    "        index = np.random.randint(len(x_train))\n",
    "        inputs = np.array(x_train[index])\n",
    "        target_output = np.array(y_train[index])\n",
    "        neuron.train(inputs,target_output,learning_rate)\n",
    "    test_data = np.array([[0,0,1],[1,1,1],[1,0,1],[0,1,1]])\n",
    "    for inputs in test_data:\n",
    "        output = neuron.activate(inputs)\n",
    "        print(\"Input: \",inputs,\" Output: \",output)"
   ]
  },
  {
   "cell_type": "markdown",
   "metadata": {},
   "source": [
    "## K Nearest Neighbours"
   ]
  },
  {
   "cell_type": "code",
   "execution_count": 6,
   "metadata": {},
   "outputs": [
    {
     "name": "stdout",
     "output_type": "stream",
     "text": [
      "Predictions: [1 0]\n"
     ]
    }
   ],
   "source": [
    "class Neuron:\n",
    "    def __init__(self,k):\n",
    "        self.k = k \n",
    "        self.x_train = None\n",
    "        self.y_train = None\n",
    "\n",
    "    def train(self,x_train,y_train):\n",
    "        self.x_train = x_train\n",
    "        self.y_train = y_train\n",
    "    \n",
    "    def prediction(self,x_test):\n",
    "        predictions = [self.predict(x) for x in x_test]\n",
    "        return np.array(predictions)\n",
    "\n",
    "    def predict(self,x):\n",
    "        distances = [self.distance(x,x_train) for x_train in self.x_train]\n",
    "        k_indices = np.argsort(distances)[:self.k]\n",
    "        k_nearest_labels = [self.y_train[i] for i in k_indices]\n",
    "        most_common = Counter(k_nearest_labels).most_common(1)\n",
    "        return most_common[0][0]\n",
    "    \n",
    "    def distance(self,x1,x2):\n",
    "        return np.sqrt(np.sum(x1-x2)**2)\n",
    "    \n",
    "if __name__ == \"__main__\":\n",
    "        k = 3\n",
    "        neuron = Neuron(k)\n",
    "        x_train = np.array([[1,2],[2,3],[3,4],[4,5]])\n",
    "        y_train = np.array([0,0,1,1])\n",
    "        x_test = np.array([[5,6],[0,1]])\n",
    "        neuron.train(x_train,y_train)\n",
    "        predictions = neuron.prediction(x_test)\n",
    "        print(\"Predictions:\",predictions)\n"
   ]
  }
 ],
 "metadata": {
  "kernelspec": {
   "display_name": "Python 3",
   "language": "python",
   "name": "python3"
  },
  "language_info": {
   "codemirror_mode": {
    "name": "ipython",
    "version": 3
   },
   "file_extension": ".py",
   "mimetype": "text/x-python",
   "name": "python",
   "nbconvert_exporter": "python",
   "pygments_lexer": "ipython3",
   "version": "3.12.0"
  }
 },
 "nbformat": 4,
 "nbformat_minor": 2
}
