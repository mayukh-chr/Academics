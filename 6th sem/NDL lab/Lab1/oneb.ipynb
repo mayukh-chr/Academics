{
 "cells": [
  {
   "cell_type": "code",
   "execution_count": 3,
   "metadata": {},
   "outputs": [],
   "source": [
    "import numpy as np\n",
    "\n",
    "class Neuron:\n",
    "\n",
    "\tdef __init__(self, num_inputs):\n",
    "\t\tself.weights = np.random.rand(num_inputs)\n",
    "\t\tself.bias = np.random.rand()\n",
    "\n",
    "\tdef activate(self, inputs):\n",
    "\t\tweighted_sum = np.dot(inputs, self.weights) + self.bias\n",
    "\t\tactivation = self.sigmoid(weighted_sum)\n",
    "\t\treturn activation\n",
    "\n",
    "\tdef sigmoid(self, x):\n",
    "\t\treturn 1 / (1 + np.exp(-x))\n",
    "\n",
    "\tdef sigmoid_derivative(self, x):\n",
    "\t\treturn x * (1 - x)\n",
    "\n",
    "\tdef train(self, inputs, target, lr=0.01):\n",
    "\t\tout = self.activate(inputs)\n",
    "\t\terror = target - out\n",
    "\t\tself.weights += lr * error * inputs\n",
    "\t\tself.bias += lr * error\n",
    "\n"
   ]
  },
  {
   "cell_type": "code",
   "execution_count": 4,
   "metadata": {},
   "outputs": [
    {
     "data": {
      "text/plain": [
       "array([ 90.6294904 , -90.2129309 ,  73.7389593 ,  58.69962969,\n",
       "         1.67750954])"
      ]
     },
     "execution_count": 4,
     "metadata": {},
     "output_type": "execute_result"
    }
   ],
   "source": [
    "neuron = Neuron (5)\n",
    "\n",
    "for i in range(100000):\n",
    "    neuron.train((-10, 10, 15, 12, -0.1), (0, 0, 1,1,0))\n",
    "\n",
    "neuron.weights"
   ]
  },
  {
   "cell_type": "code",
   "execution_count": 5,
   "metadata": {},
   "outputs": [
    {
     "name": "stdout",
     "output_type": "stream",
     "text": [
      "[0.00130299 0.00130299 0.99929293 0.99929293 0.00130299]\n"
     ]
    }
   ],
   "source": [
    "output = neuron.activate([-10,10,15,12,-0.1])\n",
    "print(output)"
   ]
  }
 ],
 "metadata": {
  "kernelspec": {
   "display_name": "Python 3",
   "language": "python",
   "name": "python3"
  },
  "language_info": {
   "codemirror_mode": {
    "name": "ipython",
    "version": 3
   },
   "file_extension": ".py",
   "mimetype": "text/x-python",
   "name": "python",
   "nbconvert_exporter": "python",
   "pygments_lexer": "ipython3",
   "version": "3.12.4"
  }
 },
 "nbformat": 4,
 "nbformat_minor": 2
}
