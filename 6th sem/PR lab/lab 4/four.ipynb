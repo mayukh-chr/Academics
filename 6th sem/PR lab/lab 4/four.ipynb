{
 "cells": [
  {
   "cell_type": "markdown",
   "metadata": {},
   "source": [
    "weather, temp, result\n",
    "sunny, hot, no\n",
    "sunny, hot, no\n",
    "overcast, hot, yes\n",
    "rainy, mild, yes\n",
    "rainy, cool, yes\n",
    "rainy, cool, no\n",
    "overcast, cool,yes\n",
    "sunny, mild, no\n",
    "sunny, cool, yes\n",
    "rainy, mild, yes\n",
    "sunny, mild, yes\n",
    "overcast, mild, yes\n",
    "overcast, hot, yes\n",
    "rainy, mild, on"
   ]
  },
  {
   "cell_type": "code",
   "execution_count": 1,
   "metadata": {},
   "outputs": [
    {
     "name": "stdout",
     "output_type": "stream",
     "text": [
      "Accuracy: 0.8\n",
      "Prediction for new data: No\n"
     ]
    }
   ],
   "source": [
    "import pandas as pd\n",
    "from sklearn.tree import DecisionTreeClassifier\n",
    "from sklearn.model_selection import train_test_split\n",
    "from sklearn import metrics\n",
    "\n",
    "# Your data\n",
    "data = {\n",
    "    'Weather': ['Sunny', 'Sunny', 'Overcast', 'Rainy', 'Rainy', 'Rainy', 'Overcast', 'Sunny', 'Sunny', 'Rainy', 'Sunny', 'Overcast', 'Overcast', 'Rainy'],\n",
    "    'Temperature': ['Hot', 'Hot', 'Hot', 'Mild', 'Cool', 'Cool', 'Cool', 'Mild', 'Cool', 'Mild', 'Mild', 'Mild', 'Hot', 'Mild'],\n",
    "    'Result': ['No', 'No', 'Yes', 'Yes', 'Yes', 'No', 'Yes', 'No', 'Yes', 'Yes', 'Yes', 'Yes', 'Yes', 'On']\n",
    "}\n",
    "\n",
    "# Create DataFrame\n",
    "df = pd.DataFrame(data)\n",
    "\n",
    "# Map categorical features to numerical values\n",
    "weather_map = {'Sunny': 0, 'Overcast': 1, 'Rainy': 2}\n",
    "temperature_map = {'Hot': 0, 'Mild': 1, 'Cool': 2}\n",
    "result_map = {'No': 0, 'Yes': 1, 'On': 2}\n",
    "\n",
    "df['Weather'] = df['Weather'].map(weather_map)\n",
    "df['Temperature'] = df['Temperature'].map(temperature_map)\n",
    "df['Result'] = df['Result'].map(result_map)\n",
    "\n",
    "# Split data into features (X) and target (y)\n",
    "X = df[['Weather', 'Temperature']]\n",
    "y = df['Result']\n",
    "\n",
    "# Split data into training and test sets\n",
    "X_train, X_test, y_train, y_test = train_test_split(X, y, test_size=0.3, random_state=1)\n",
    "\n",
    "# Create Decision Tree classifier\n",
    "clf = DecisionTreeClassifier()\n",
    "\n",
    "# Train Decision Tree Classifier\n",
    "clf = clf.fit(X_train, y_train)\n",
    "\n",
    "# Predict the response for test dataset\n",
    "y_pred = clf.predict(X_test)\n",
    "\n",
    "# Model Accuracy\n",
    "print(\"Accuracy:\", metrics.accuracy_score(y_test, y_pred))\n",
    "\n",
    "# Predicting with new data\n",
    "new_data = pd.DataFrame({'Weather': [0], 'Temperature': [1]})  # Example: Weather = Sunny, Temperature = Mild\n",
    "prediction = clf.predict(new_data)\n",
    "prediction_result = [key for key, value in result_map.items() if value == prediction[0]]\n",
    "\n",
    "print(f\"Prediction for new data: {prediction_result[0]}\")\n"
   ]
  }
 ],
 "metadata": {
  "kernelspec": {
   "display_name": "Python 3",
   "language": "python",
   "name": "python3"
  },
  "language_info": {
   "codemirror_mode": {
    "name": "ipython",
    "version": 3
   },
   "file_extension": ".py",
   "mimetype": "text/x-python",
   "name": "python",
   "nbconvert_exporter": "python",
   "pygments_lexer": "ipython3",
   "version": "3.13.1"
  }
 },
 "nbformat": 4,
 "nbformat_minor": 2
}
